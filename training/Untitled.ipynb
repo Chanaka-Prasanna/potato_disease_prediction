{
 "cells": [
  {
   "cell_type": "code",
   "execution_count": 1,
   "id": "beb4b93b-d233-4216-9c40-af44c10f0a33",
   "metadata": {},
   "outputs": [],
   "source": [
    "import tensorflow as tf\n",
    "from tensorflow.keras import models,layers\n",
    "import matplotlib.pyplot as plt\n",
    "import numpy as np"
   ]
  },
  {
   "cell_type": "code",
   "execution_count": 3,
   "id": "6620970b-0827-4ad8-97ef-4c4064f69551",
   "metadata": {},
   "outputs": [
    {
     "name": "stdout",
     "output_type": "stream",
     "text": [
      "INFO:tensorflow:Assets written to: ../saved_models/1\\assets\n"
     ]
    },
    {
     "name": "stderr",
     "output_type": "stream",
     "text": [
      "INFO:tensorflow:Assets written to: ../saved_models/1\\assets\n"
     ]
    },
    {
     "name": "stdout",
     "output_type": "stream",
     "text": [
      "Saved artifact at '../saved_models/1'. The following endpoints are available:\n",
      "\n",
      "* Endpoint 'serve'\n",
      "  args_0 (POSITIONAL_ONLY): TensorSpec(shape=(None, 256, 256, 3), dtype=tf.float32, name='input_layer')\n",
      "Output Type:\n",
      "  TensorSpec(shape=(None, 3), dtype=tf.float32, name=None)\n",
      "Captures:\n",
      "  2154659720080: TensorSpec(shape=(), dtype=tf.resource, name=None)\n",
      "  2154659775408: TensorSpec(shape=(), dtype=tf.resource, name=None)\n",
      "  2154659787376: TensorSpec(shape=(), dtype=tf.resource, name=None)\n",
      "  2154659788256: TensorSpec(shape=(), dtype=tf.resource, name=None)\n",
      "  2154659830016: TensorSpec(shape=(), dtype=tf.resource, name=None)\n",
      "  2154659830720: TensorSpec(shape=(), dtype=tf.resource, name=None)\n",
      "  2154659838112: TensorSpec(shape=(), dtype=tf.resource, name=None)\n",
      "  2154659838816: TensorSpec(shape=(), dtype=tf.resource, name=None)\n",
      "  2154659838992: TensorSpec(shape=(), dtype=tf.resource, name=None)\n",
      "  2154659975888: TensorSpec(shape=(), dtype=tf.resource, name=None)\n",
      "  2154659983104: TensorSpec(shape=(), dtype=tf.resource, name=None)\n",
      "  2154659983984: TensorSpec(shape=(), dtype=tf.resource, name=None)\n",
      "  2154659976768: TensorSpec(shape=(), dtype=tf.resource, name=None)\n",
      "  2154660219888: TensorSpec(shape=(), dtype=tf.resource, name=None)\n",
      "  2154660230976: TensorSpec(shape=(), dtype=tf.resource, name=None)\n",
      "  2154660231680: TensorSpec(shape=(), dtype=tf.resource, name=None)\n",
      "  2154660231856: TensorSpec(shape=(), dtype=tf.resource, name=None)\n",
      "  2154660499648: TensorSpec(shape=(), dtype=tf.resource, name=None)\n"
     ]
    }
   ],
   "source": [
    "model = tf.keras.models.load_model(\"../saved_models/1.keras\")\n",
    "\n",
    "# Convert to SavedModel format\n",
    "model.export(\"../saved_models/1\")\n"
   ]
  },
  {
   "cell_type": "code",
   "execution_count": null,
   "id": "2f5497b0-999b-47d1-9708-6355b528c6c9",
   "metadata": {},
   "outputs": [],
   "source": []
  }
 ],
 "metadata": {
  "kernelspec": {
   "display_name": "Python 3 (ipykernel)",
   "language": "python",
   "name": "python3"
  },
  "language_info": {
   "codemirror_mode": {
    "name": "ipython",
    "version": 3
   },
   "file_extension": ".py",
   "mimetype": "text/x-python",
   "name": "python",
   "nbconvert_exporter": "python",
   "pygments_lexer": "ipython3",
   "version": "3.10.0"
  }
 },
 "nbformat": 4,
 "nbformat_minor": 5
}
